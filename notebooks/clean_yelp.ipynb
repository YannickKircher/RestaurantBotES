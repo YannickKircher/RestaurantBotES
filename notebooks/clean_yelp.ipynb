{
 "cells": [
  {
   "cell_type": "code",
   "execution_count": 95,
   "metadata": {},
   "outputs": [],
   "source": [
    "import pandas as pd \n",
    "import numpy as np\n",
    "from bs4 import BeautifulSoup \n",
    "import requests"
   ]
  },
  {
   "cell_type": "code",
   "execution_count": 96,
   "metadata": {},
   "outputs": [],
   "source": [
    "df = pd.read_csv(\"../data/raw/Yelp Restaurant Reviews.csv\")"
   ]
  },
  {
   "cell_type": "code",
   "execution_count": 97,
   "metadata": {},
   "outputs": [],
   "source": [
    "grouped_by_url = df.groupby(\"Yelp URL\").agg({\"Rating\":\"mean\"}).reset_index()"
   ]
  },
  {
   "cell_type": "code",
   "execution_count": 105,
   "metadata": {},
   "outputs": [],
   "source": [
    "def get_page_img_url(url):\n",
    "    html = requests.get(url, timeout=30)\n",
    "    soup = BeautifulSoup(html.text, 'lxml')\n",
    "\n",
    "    try:\n",
    "        name = [c for c in soup.find(\"h1\")][0]\n",
    "    except:\n",
    "        name = None\n",
    "\n",
    "    try:\n",
    "        img_url = soup.find(\"img\")[\"src\"]\n",
    "    except:\n",
    "        img_url = None\n",
    "\n",
    "    return img_url, name"
   ]
  },
  {
   "cell_type": "code",
   "execution_count": 106,
   "metadata": {},
   "outputs": [],
   "source": [
    "grouped_by_url[[\"img_url\",\"name\"]] = grouped_by_url[\"Yelp URL\"].apply(get_page_img_url).to_list()"
   ]
  },
  {
   "cell_type": "code",
   "execution_count": 110,
   "metadata": {},
   "outputs": [],
   "source": [
    "grouped_by_url.dropna().to_csv(\"../data/transformed/grouped_resturants_scraped_clean.csv\")"
   ]
  }
 ],
 "metadata": {
  "kernelspec": {
   "display_name": "Python 3",
   "language": "python",
   "name": "python3"
  },
  "language_info": {
   "codemirror_mode": {
    "name": "ipython",
    "version": 3
   },
   "file_extension": ".py",
   "mimetype": "text/x-python",
   "name": "python",
   "nbconvert_exporter": "python",
   "pygments_lexer": "ipython3",
   "version": "3.9.0"
  },
  "orig_nbformat": 4
 },
 "nbformat": 4,
 "nbformat_minor": 2
}
