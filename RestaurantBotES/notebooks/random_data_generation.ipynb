{
 "cells": [
  {
   "cell_type": "code",
   "execution_count": 5,
   "metadata": {},
   "outputs": [],
   "source": [
    "import pandas as pd \n",
    "import numpy as np\n",
    "import os "
   ]
  },
  {
   "cell_type": "code",
   "execution_count": 6,
   "metadata": {},
   "outputs": [],
   "source": [
    "df = pd.read_csv(\"../data/transformed/yelp/grouped_resturants_scraped.csv\",index_col=\"Unnamed: 0\")\n",
    "restaurant_names = df[\"name\"].dropna()"
   ]
  },
  {
   "cell_type": "code",
   "execution_count": 8,
   "metadata": {},
   "outputs": [],
   "source": [
    "def generate_line(file_name,names=None):\n",
    "    \n",
    "    #simulate rating \n",
    "    random_rating = np.random.random()*5\n",
    "    if random_rating <= 3.0:\n",
    "        random_rating += np.random.choice([0,1,2])\n",
    "    elif random_rating >=4:\n",
    "        random_rating -= np.random.choice([0,1])\n",
    "    \n",
    "    \n",
    "    img_url = \"https://storage.cloud.google.com/chatbot_01/\"+file_name\n",
    "    \n",
    "    food = ''.join([i for i in file_name.split(\".\")[0] if not i.isdigit()])\n",
    "    \n",
    "    food_county_dict = {\n",
    "        \"pasta\" : \"italian\",\n",
    "        \"pizza\" : \"italian\",\n",
    "        \"bakery\" : \"french\",\n",
    "        \"french\" : \"french\",\n",
    "        \"chinese\" : \"chinese\",\n",
    "        \"german\" : \"german\",\n",
    "        \"mexican\" : \"mexican\",\n",
    "        \"Burger\" : \"american\",\n",
    "    }\n",
    "    county = food_county_dict[food]\n",
    "    \n",
    "    price_range = np.random.choice([\"low\",\"medium\",\"high\"])\n",
    "    \n",
    "    food_menu_dict = {\n",
    "        \"pasta\" : [\"Spaghetti\",\"Carbonara\",\"Rigatoni\",\"Tagliatelle\",\"Ravioli\"],\n",
    "        \"pizza\" : [\"Pepperoni\",\"Salami\",\"Focaccia\",\"Formaggi\",\"Margherita\",\"Funghi\",\"Calzone\"],\n",
    "        \"bakery\" : [\"Macarons\",\"Eclair\",\"Madeleine\",\"croissant\",\"ice cream\"],\n",
    "        \"french\" : [\"croissant\",\"Macarons\"],\n",
    "        \"german\" : [\"Macarons\",\"Sausages\",\"currywurst\",\"schnitzel\",\"käsespätzle\",\"Sauerbraten\"],\n",
    "        \"mexican\" : [\"Chili\",\"Tacos\",\"Burritos\",\"Quesadilla\",\"Enchiladas\"],\n",
    "        \"Burger\" : [\"Hamburger\",\"Cheeseburger\",\"fish burger\",\"veggi burger\"],\n",
    "        \"chinese\" : [\"Kung Pao Chicken\",\"Wonton\"],\n",
    "    }\n",
    "    \n",
    "    locations = [\"Rome\", \"Florence\", \"Venice\", \"Turin\", \"Matera\"]\n",
    "    location = np.random.choice(locations)\n",
    "    \n",
    "    menu = list(set(np.random.choice(food_menu_dict[food],4)))\n",
    "    \n",
    "    name = county if names is None else np.random.choice(names)\n",
    "    \n",
    "    return name, county, random_rating, price_range, location, img_url, menu\n",
    "\n",
    "\n",
    "restaurants_list = []\n",
    "for file_name in os.listdir(\"/home/lemmy/Workspace/dialogflowchatbot/RestaurantBotES/data/pics/\"):\n",
    "    for number_of_restaurant in range(6):\n",
    "        restaurants_list.append(generate_line(file_name,restaurant_names))\n",
    "\n",
    "new_data_df = pd.DataFrame(restaurants_list, columns=[\"name\",\"country\",\"rating\",\"price_range\",\"location\",\"img_url\",\"menu_list\"])"
   ]
  },
  {
   "cell_type": "code",
   "execution_count": null,
   "metadata": {},
   "outputs": [],
   "source": [
    "new_data_df.to_csv(\"../data/transformed/random_generated_data.csv\",index=False)"
   ]
  }
 ],
 "metadata": {
  "kernelspec": {
   "display_name": "Python 3",
   "language": "python",
   "name": "python3"
  },
  "language_info": {
   "codemirror_mode": {
    "name": "ipython",
    "version": 3
   },
   "file_extension": ".py",
   "mimetype": "text/x-python",
   "name": "python",
   "nbconvert_exporter": "python",
   "pygments_lexer": "ipython3",
   "version": "3.10.6"
  },
  "orig_nbformat": 4
 },
 "nbformat": 4,
 "nbformat_minor": 2
}
